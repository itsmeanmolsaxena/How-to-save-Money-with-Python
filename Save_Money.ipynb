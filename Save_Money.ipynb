{
  "nbformat": 4,
  "nbformat_minor": 0,
  "metadata": {
    "colab": {
      "name": "Save_Money.ipynb",
      "provenance": [],
      "collapsed_sections": [],
      "toc_visible": true
    },
    "kernelspec": {
      "name": "python3",
      "display_name": "Python 3"
    }
  },
  "cells": [
    {
      "cell_type": "markdown",
      "metadata": {
        "id": "WUw_Z20ceqap",
        "colab_type": "text"
      },
      "source": [
        "I want to buy a [pendrive](https://www.amazon.in/SanDisk-Ultra-Drive-Pendrive-Mobile/dp/B0819ZV89L/ref=asc_df_B0819ZV89L/?tag=googleshopdes-21&linkCode=df0&hvadid=397006516009&hvpos=&hvnetw=g&hvrand=13329020871815390308&hvpone=&hvptwo=&hvqmt=&hvdev=c&hvdvcmdl=&hvlocint=&hvlocphy=9040189&hvtargid=pla-855199211735&psc=1&ext_vrnc=hi) but right now it is out of my budget. Should i regularly visit the same page to check the price or is there any other way..??\n",
        "Being a computer science engineer, i should develop some logic to save my time , efforts and of course money. \n",
        "\n",
        "So, here we go.\n",
        "\n"
      ]
    },
    {
      "cell_type": "markdown",
      "metadata": {
        "id": "OznRSyefP7om",
        "colab_type": "text"
      },
      "source": [
        "Let's import the necessary Libraries for this Project. We will use Beautifulsoup and Request.\n",
        "\n",
        "Beautiful Soup is a library that makes it easy to scrape information from web pages. It sits atop an HTML or XML parser, providing Pythonic idioms for iterating, searching, and modifying the parse tree.\n",
        "\n",
        "See the Documentation here :-[beautifulsoup4](https://pypi.org/project/beautifulsoup4/)\n",
        "\n",
        "Requests is one of the most downloaded Python package today, pulling in around 14M downloads/week. Requests allows you to send HTTP/1.1 requests extremely easily. There’s no need to manually add query strings to your URLs, or to form-encode your POST data. Keep-alive and HTTP connection pooling are 100% automatic, thanks to urllib3.\n",
        "\n",
        "See the documentation here :- [requests 2.24.0](https://pypi.org/project/requests/)\n",
        "\n"
      ]
    },
    {
      "cell_type": "code",
      "metadata": {
        "id": "iy_PjXBjMjvS",
        "colab_type": "code",
        "colab": {
          "base_uri": "https://localhost:8080/",
          "height": 119
        },
        "outputId": "dc52b078-418c-480f-dc5c-2972edc472f2"
      },
      "source": [
        "!pip install beautifulsoup4\n",
        "!pip install requests"
      ],
      "execution_count": 43,
      "outputs": [
        {
          "output_type": "stream",
          "text": [
            "Requirement already satisfied: beautifulsoup4 in /usr/local/lib/python3.6/dist-packages (4.6.3)\n",
            "Requirement already satisfied: requests in /usr/local/lib/python3.6/dist-packages (2.23.0)\n",
            "Requirement already satisfied: certifi>=2017.4.17 in /usr/local/lib/python3.6/dist-packages (from requests) (2020.6.20)\n",
            "Requirement already satisfied: chardet<4,>=3.0.2 in /usr/local/lib/python3.6/dist-packages (from requests) (3.0.4)\n",
            "Requirement already satisfied: idna<3,>=2.5 in /usr/local/lib/python3.6/dist-packages (from requests) (2.10)\n",
            "Requirement already satisfied: urllib3!=1.25.0,!=1.25.1,<1.26,>=1.21.1 in /usr/local/lib/python3.6/dist-packages (from requests) (1.24.3)\n"
          ],
          "name": "stdout"
        }
      ]
    },
    {
      "cell_type": "markdown",
      "metadata": {
        "id": "xDOh_5_MP8b8",
        "colab_type": "text"
      },
      "source": [
        "Now import the libraries.\n",
        "\n",
        "For sending the email alert, we will use smtplib library.\n",
        "The smtplib module defines an SMTP client session object that can be used to send mail to any Internet machine with an SMTP or ESMTP listener daemon"
      ]
    },
    {
      "cell_type": "code",
      "metadata": {
        "id": "H6l_GX-FTM1p",
        "colab_type": "code",
        "colab": {}
      },
      "source": [
        "import requests\n",
        "from bs4 import BeautifulSoup\n",
        "import smtplib\n"
      ],
      "execution_count": 44,
      "outputs": []
    },
    {
      "cell_type": "markdown",
      "metadata": {
        "id": "Oqp1Ph_HP9DA",
        "colab_type": "text"
      },
      "source": [
        "In computing, a user agent is software (a software agent) that is acting on behalf of a user, such as a web browser that \"retrieves, renders and facilitates end user interaction with Web content\".\n",
        "\n",
        "Anyone can check his/her user agent on google. (Thanks to Google)"
      ]
    },
    {
      "cell_type": "code",
      "metadata": {
        "id": "tTUWWK8zThHE",
        "colab_type": "code",
        "colab": {}
      },
      "source": [
        "headers = {\"User-agent\": 'Mozilla/5.0 (Windows NT 10.0; Win64; x64) AppleWebKit/537.36 (KHTML, like Gecko) Chrome/83.0.4103.116 Safari/537.36'}"
      ],
      "execution_count": 45,
      "outputs": []
    },
    {
      "cell_type": "markdown",
      "metadata": {
        "id": "Y39koRAbP_Qo",
        "colab_type": "text"
      },
      "source": [
        "In the URL Variable, we will store the url of our [ desired product](https://www.amazon.in/SanDisk-Ultra-Drive-Pendrive-Mobile/dp/B0819ZV89L/ref=asc_df_B0819ZV89L/?tag=googleshopdes-21&linkCode=df0&hvadid=397006516009&hvpos=&hvnetw=g&hvrand=13329020871815390308&hvpone=&hvptwo=&hvqmt=&hvdev=c&hvdvcmdl=&hvlocint=&hvlocphy=9040189&hvtargid=pla-855199211735&psc=1&ext_vrnc=hi)\n",
        "\n",
        "With the find() method we can find required information by various means. In the below code, we have find the product title and price of the product. To convert the type of scrapped data into string, we use .get_text() method."
      ]
    },
    {
      "cell_type": "code",
      "metadata": {
        "id": "W6InJC__iYqp",
        "colab_type": "code",
        "colab": {
          "base_uri": "https://localhost:8080/",
          "height": 306
        },
        "outputId": "d3be1b35-d126-4403-c32c-297e9c9d74ff"
      },
      "source": [
        "URL = \"https://www.amazon.in/SanDisk-Ultra-Drive-Pendrive-Mobile/dp/B0819ZV89L/ref=asc_df_B0819ZV89L/?tag=googleshopdes-21&linkCode=df0&hvadid=397006516009&hvpos=&hvnetw=g&hvrand=13329020871815390308&hvpone=&hvptwo=&hvqmt=&hvdev=c&hvdvcmdl=&hvlocint=&hvlocphy=9040189&hvtargid=pla-855199211735&psc=1&ext_vrnc=hi\"\n",
        "page = requests.get(URL,headers= headers)\n",
        "\n",
        "soup = BeautifulSoup(page.content, \"lxml\")\n",
        "\n",
        "title = soup.find(id=\"productTitle\").get_text()\n",
        "price = soup.find(id=\"priceblock_ourprice\").get_text()\n",
        "\n",
        "print(\"Product Name :-\", title)\n",
        "print(\"Price of the product :- \",price)\n"
      ],
      "execution_count": 46,
      "outputs": [
        {
          "output_type": "stream",
          "text": [
            "Product Name :- \n",
            "\n",
            "\n",
            "\n",
            "\n",
            "\n",
            "\n",
            "\n",
            "SanDisk Ultra Dual Drive Go Type C Pendrive for Mobile 32GB, 5Y - SDDDC3-032G-I35\n",
            "\n",
            "\n",
            "\n",
            "\n",
            "\n",
            "\n",
            "\n",
            "Price of the product :-  ₹ 688.00\n"
          ],
          "name": "stdout"
        }
      ]
    },
    {
      "cell_type": "markdown",
      "metadata": {
        "id": "SbQ0kDqdXbls",
        "colab_type": "text"
      },
      "source": [
        "Scrapped Data always need some cleaning. By now, the element looks weird because there are too many spaces before & after the text we need.\n",
        "Also, the the type of price is a string which contains a \"₹\" symbol, which is showing it's an Indian Currency. \n",
        "\n",
        "For the ease of programming and logic, we will remove such complications."
      ]
    },
    {
      "cell_type": "code",
      "metadata": {
        "id": "IwnOoZKaWnl1",
        "colab_type": "code",
        "colab": {
          "base_uri": "https://localhost:8080/",
          "height": 136
        },
        "outputId": "a306cc50-36f0-47ba-8b4b-59b63184e708"
      },
      "source": [
        "print(\"Product name :-\",title.strip())\n",
        "print(\"\\ndatatype of price :-\",type(price))\n",
        "print(\"\\nLenth of 'price' string :-\",len(price))\n",
        "print(\"\\nNumerical part of the Price\",price[1:len(price):1])"
      ],
      "execution_count": 47,
      "outputs": [
        {
          "output_type": "stream",
          "text": [
            "Product name :- SanDisk Ultra Dual Drive Go Type C Pendrive for Mobile 32GB, 5Y - SDDDC3-032G-I35\n",
            "\n",
            "datatype of price :- <class 'str'>\n",
            "\n",
            "Lenth of 'price' string :- 8\n",
            "\n",
            "Numerical part of the Price  688.00\n"
          ],
          "name": "stdout"
        }
      ]
    },
    {
      "cell_type": "markdown",
      "metadata": {
        "id": "vpCYvb-DZJNw",
        "colab_type": "text"
      },
      "source": [
        "So, using above logic, we will create a function which will scrap the product name and price. If the product's price is in our expected range, it will send an automatic email alert.  "
      ]
    },
    {
      "cell_type": "code",
      "metadata": {
        "id": "ziyqOJPuVHqU",
        "colab_type": "code",
        "colab": {}
      },
      "source": [
        "def save_money():\n",
        "\n",
        "    page = requests.get(URL, headers=headers)\n",
        "\n",
        "    soup = BeautifulSoup(page.content, \"lxml\")\n",
        "\n",
        "    title = soup.find(id=\"productTitle\").get_text()\n",
        "    price = soup.find(id=\"priceblock_ourprice\").get_text()\n",
        "    \n",
        "    print(\"\\n Product Name :-\",title.strip())\n",
        "    print(\"\\n Price :-\",price)\n",
        "\n",
        "    if (float(price[1:len(price):1]) < 500.00):\n",
        "        send_mail()\n",
        "    else:\n",
        "        print(\"\\n Price has not dropped!\\n\")"
      ],
      "execution_count": 48,
      "outputs": []
    },
    {
      "cell_type": "markdown",
      "metadata": {
        "id": "qDn4I5ZIaZYZ",
        "colab_type": "text"
      },
      "source": [
        "Python, being a powerful language don’t need any external library to import and offers a native library to send emails- “SMTP lib”. “smtplib” creates a Simple Mail Transfer Protocol client session object which is used to send emails to any valid email id on the internet. Different websites use different port numbers.\n",
        "In this article, we are using a Gmail account to send a mail. Port number used here is ‘587’. And if you want to send mail using a website other than Gmail, you need to get the corresponding information.  \n",
        "Credit :- [Geeksforgeeks](https://www.geeksforgeeks.org/)\n",
        "\n",
        "See the full article here :- [Send email with python code](https://www.geeksforgeeks.org/send-mail-gmail-account-using-python/#:~:text=Steps%20to%20send%20mail%20from,to%20encapsulate%20an%20SMTP%20connection.&text=In%20this%2C%20you%20need%20to,of%20the%20port%20to%20use.)\n",
        "\n",
        "For sender's email credentials, You have to enable \"Less secure app\" in google account settings because Google's security will not allow you to gain the access directly."
      ]
    },
    {
      "cell_type": "code",
      "metadata": {
        "id": "ZQb0-qasV0fy",
        "colab_type": "code",
        "colab": {}
      },
      "source": [
        "def send_mail():\n",
        "    server = smtplib.SMTP('smtp.gmail.com', 587)\n",
        "    server.ehlo()\n",
        "    server.starttls()\n",
        "    server.ehlo()\n",
        "\n",
        "    server.login(\"Sender's email id\", \"Sender's email id's Password\")\n",
        "\n",
        "    subject = 'Price fell down!'\n",
        "\n",
        "    body = 'Check the link:\\\n",
        "  https://www.amazon.de/gp/product/B0756CYWWD/ref=as_li_tl?ie=UTF8&tag=idk01e-21&camp=1638&creative=6742&linkCode=as2&creativeASIN=B0756CYWWD&linkId=18730d371b945bad11e9ea58ab9d8b32'\n",
        "\n",
        "    msg = f\"Subject: {subject}\\n\\n{body}\"\n",
        "\n",
        "    server.sendmail(\n",
        "        'Price check',\n",
        "        \"Receiver's Email id\",\n",
        "        msg\n",
        "    )\n",
        "    print('\\n Hey Email has been sent!')\n",
        "\n",
        "    server.quit()"
      ],
      "execution_count": 49,
      "outputs": []
    },
    {
      "cell_type": "markdown",
      "metadata": {
        "id": "MuGY1umQcMRj",
        "colab_type": "text"
      },
      "source": [
        "Let's call the function and see what we will get."
      ]
    },
    {
      "cell_type": "code",
      "metadata": {
        "id": "MhbYNdKaWIVq",
        "colab_type": "code",
        "colab": {
          "base_uri": "https://localhost:8080/",
          "height": 136
        },
        "outputId": "f3cde2eb-d9c5-4dd7-864d-ce4edbd9ac8d"
      },
      "source": [
        "save_money()"
      ],
      "execution_count": 50,
      "outputs": [
        {
          "output_type": "stream",
          "text": [
            "\n",
            " Product Name :- SanDisk Ultra Dual Drive Go Type C Pendrive for Mobile 32GB, 5Y - SDDDC3-032G-I35\n",
            "\n",
            " Price :- ₹ 688.00\n",
            "\n",
            " Price has not dropped!\n",
            "\n"
          ],
          "name": "stdout"
        }
      ]
    },
    {
      "cell_type": "markdown",
      "metadata": {
        "id": "51j7wqCYdVA6",
        "colab_type": "text"
      },
      "source": [
        "Whenever the price will go low, it will send an email alert. So, i do not need to check the price regularly.\n",
        "\n",
        "It can save my time, effort and of course Money."
      ]
    },
    {
      "cell_type": "code",
      "metadata": {
        "id": "SfhVHCxXYgrZ",
        "colab_type": "code",
        "colab": {}
      },
      "source": [
        ""
      ],
      "execution_count": null,
      "outputs": []
    }
  ]
}